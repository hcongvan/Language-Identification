{
 "nbformat": 4,
 "nbformat_minor": 2,
 "metadata": {
  "language_info": {
   "name": "python",
   "codemirror_mode": {
    "name": "ipython",
    "version": 3
   }
  },
  "orig_nbformat": 2,
  "file_extension": ".py",
  "mimetype": "text/x-python",
  "name": "python",
  "npconvert_exporter": "python",
  "pygments_lexer": "ipython3",
  "version": 3
 },
 "cells": [
  {
   "cell_type": "code",
   "execution_count": 1,
   "metadata": {},
   "outputs": [],
   "source": [
    "import numpy as np\n",
    "import seaborn as sns\n",
    "import pandas as pd\n",
    "import sklearn\n",
    "from sklearn.feature_extraction.text import CountVectorizer,TfidfVectorizer\n",
    "from sklearn.metrics import accuracy_score,classification_report\n",
    "import scipy"
   ]
  },
  {
   "cell_type": "markdown",
   "execution_count": null,
   "metadata": {},
   "outputs": [],
   "source": [
    "<h2>Function replace some symbol</h2>\n",
    "\n",
    "<img src=\"img/table1.PNG\"/>"
   ]
  },
  {
   "cell_type": "code",
   "execution_count": 2,
   "metadata": {},
   "outputs": [],
   "source": [
    "def removeNoise(data):\n",
    "    data['text'] = data['text'].str.replace('[=<>\"[]{}/:-;.,\\'\\(\\)%]', ' ')\n",
    "    data['text'] = data['text'].str.replace('[0-9]', ' ')\n",
    "    return(data)"
   ]
  },
  {
   "cell_type": "markdown",
   "execution_count": null,
   "metadata": {},
   "outputs": [],
   "source": [
    "<h2>Formulate:</h2>\n",
    "\n",
    "<img src=\"img/kl.png\" />"
   ]
  },
  {
   "cell_type": "code",
   "execution_count": 10,
   "metadata": {},
   "outputs": [],
   "source": [
    "def KLdivergence(p,q):\n",
    "    if len(p) != len(q):\n",
    "        return False\n",
    "    p = p/np.sum(p)\n",
    "    q = q/np.sum(q)\n",
    "    return np.sum(p*np.log(p/q))"
   ]
  },
  {
   "cell_type": "markdown",
   "execution_count": null,
   "metadata": {},
   "outputs": [],
   "source": [
    "<h2>Get data train</h2> "
   ]
  },
  {
   "cell_type": "code",
   "execution_count": 3,
   "metadata": {},
   "outputs": [
    {
     "data": {
      "text/html": "<div>\n<style scoped>\n    .dataframe tbody tr th:only-of-type {\n        vertical-align: middle;\n    }\n\n    .dataframe tbody tr th {\n        vertical-align: top;\n    }\n\n    .dataframe thead th {\n        text-align: right;\n    }\n</style>\n<table border=\"1\" class=\"dataframe\">\n  <thead>\n    <tr style=\"text-align: right;\">\n      <th></th>\n      <th>language</th>\n      <th>text</th>\n      <th>length_text</th>\n    </tr>\n  </thead>\n  <tbody>\n    <tr>\n      <th>0</th>\n      <td>bg</td>\n      <td>Състав на Парламента: вж. протоколиОдобряване ...</td>\n      <td>327263</td>\n    </tr>\n    <tr>\n      <th>1</th>\n      <td>cs</td>\n      <td>Schválení zápisu z předchozího zasedání: viz z...</td>\n      <td>317927</td>\n    </tr>\n    <tr>\n      <th>2</th>\n      <td>da</td>\n      <td>Genoptagelse af sessionenJeg erklærer Europa-P...</td>\n      <td>678400</td>\n    </tr>\n    <tr>\n      <th>3</th>\n      <td>de</td>\n      <td>Wiederaufnahme der SitzungsperiodeIch erkläre ...</td>\n      <td>747690</td>\n    </tr>\n    <tr>\n      <th>4</th>\n      <td>el</td>\n      <td>Επαvάληψη της συvσδoυΚηρύσσω την επανάληψη της...</td>\n      <td>523277</td>\n    </tr>\n  </tbody>\n</table>\n</div>",
      "text/plain": "  language                                               text  length_text\n0       bg  Състав на Парламента: вж. протоколиОдобряване ...       327263\n1       cs  Schválení zápisu z předchozího zasedání: viz z...       317927\n2       da  Genoptagelse af sessionenJeg erklærer Europa-P...       678400\n3       de  Wiederaufnahme der SitzungsperiodeIch erkläre ...       747690\n4       el  Επαvάληψη της συvσδoυΚηρύσσω την επανάληψη της...       523277"
     },
     "execution_count": 3,
     "metadata": {},
     "output_type": "execute_result"
    }
   ],
   "source": [
    "data = pd.read_csv('formatted_data.csv', sep=';', error_bad_lines=False)\n",
    "data = removeNoise(data)\n",
    "data.head()"
   ]
  },
  {
   "cell_type": "markdown",
   "execution_count": null,
   "metadata": {},
   "outputs": [],
   "source": [
    "<h2>Get data test from external test set</h2>"
   ]
  },
  {
   "cell_type": "code",
   "execution_count": 4,
   "metadata": {},
   "outputs": [
    {
     "name": "stderr",
     "output_type": "stream",
     "text": "b'Skipping line 62: expected 2 fields, saw 3\\nSkipping line 131: expected 2 fields, saw 3\\nSkipping line 197: expected 2 fields, saw 3\\nSkipping line 258: expected 2 fields, saw 3\\nSkipping line 271: expected 2 fields, saw 3\\nSkipping line 428: expected 2 fields, saw 3\\nSkipping line 559: expected 2 fields, saw 3\\nSkipping line 647: expected 2 fields, saw 3\\nSkipping line 880: expected 2 fields, saw 3\\nSkipping line 882: expected 2 fields, saw 3\\nSkipping line 987: expected 2 fields, saw 3\\nSkipping line 988: expected 2 fields, saw 3\\nSkipping line 993: expected 2 fields, saw 3\\nSkipping line 994: expected 2 fields, saw 3\\nSkipping line 1057: expected 2 fields, saw 3\\nSkipping line 1181: expected 2 fields, saw 4\\nSkipping line 1286: expected 2 fields, saw 3\\nSkipping line 1314: expected 2 fields, saw 3\\nSkipping line 1386: expected 2 fields, saw 3\\nSkipping line 1417: expected 2 fields, saw 3\\nSkipping line 1862: expected 2 fields, saw 3\\nSkipping line 1905: expected 2 fields, saw 5\\nSkipping line 1924: expected 2 fields, saw 3\\nSkipping line 2022: expected 2 fields, saw 3\\nSkipping line 2023: expected 2 fields, saw 3\\nSkipping line 2090: expected 2 fields, saw 3\\nSkipping line 2139: expected 2 fields, saw 3\\nSkipping line 2372: expected 2 fields, saw 3\\nSkipping line 2415: expected 2 fields, saw 3\\nSkipping line 2470: expected 2 fields, saw 3\\nSkipping line 2754: expected 2 fields, saw 3\\nSkipping line 2960: expected 2 fields, saw 3\\nSkipping line 3012: expected 2 fields, saw 3\\nSkipping line 3083: expected 2 fields, saw 3\\nSkipping line 3142: expected 2 fields, saw 3\\nSkipping line 3336: expected 2 fields, saw 3\\nSkipping line 3437: expected 2 fields, saw 3\\nSkipping line 3515: expected 2 fields, saw 3\\nSkipping line 3547: expected 2 fields, saw 3\\nSkipping line 3608: expected 2 fields, saw 4\\nSkipping line 3724: expected 2 fields, saw 3\\nSkipping line 3758: expected 2 fields, saw 3\\nSkipping line 3954: expected 2 fields, saw 3\\nSkipping line 4033: expected 2 fields, saw 5\\nSkipping line 4078: expected 2 fields, saw 5\\nSkipping line 4081: expected 2 fields, saw 4\\nSkipping line 4106: expected 2 fields, saw 3\\nSkipping line 4146: expected 2 fields, saw 3\\nSkipping line 4153: expected 2 fields, saw 3\\nSkipping line 4226: expected 2 fields, saw 3\\nSkipping line 4246: expected 2 fields, saw 4\\nSkipping line 4250: expected 2 fields, saw 3\\nSkipping line 4257: expected 2 fields, saw 3\\nSkipping line 4370: expected 2 fields, saw 3\\nSkipping line 4385: expected 2 fields, saw 4\\nSkipping line 4523: expected 2 fields, saw 3\\nSkipping line 4527: expected 2 fields, saw 4\\nSkipping line 4623: expected 2 fields, saw 3\\nSkipping line 4624: expected 2 fields, saw 4\\nSkipping line 4628: expected 2 fields, saw 3\\nSkipping line 4629: expected 2 fields, saw 3\\nSkipping line 4640: expected 2 fields, saw 4\\nSkipping line 4774: expected 2 fields, saw 3\\nSkipping line 4775: expected 2 fields, saw 3\\nSkipping line 4822: expected 2 fields, saw 3\\nSkipping line 4862: expected 2 fields, saw 5\\nSkipping line 4863: expected 2 fields, saw 3\\nSkipping line 4864: expected 2 fields, saw 3\\nSkipping line 4865: expected 2 fields, saw 3\\nSkipping line 4866: expected 2 fields, saw 3\\nSkipping line 4867: expected 2 fields, saw 3\\nSkipping line 4938: expected 2 fields, saw 3\\nSkipping line 5035: expected 2 fields, saw 3\\nSkipping line 5056: expected 2 fields, saw 3\\nSkipping line 5081: expected 2 fields, saw 3\\nSkipping line 5100: expected 2 fields, saw 3\\nSkipping line 5196: expected 2 fields, saw 3\\nSkipping line 5233: expected 2 fields, saw 3\\nSkipping line 5258: expected 2 fields, saw 3\\nSkipping line 5266: expected 2 fields, saw 3\\nSkipping line 5286: expected 2 fields, saw 3\\nSkipping line 5306: expected 2 fields, saw 3\\nSkipping line 5540: expected 2 fields, saw 3\\nSkipping line 5560: expected 2 fields, saw 3\\nSkipping line 5584: expected 2 fields, saw 3\\nSkipping line 5585: expected 2 fields, saw 3\\nSkipping line 5597: expected 2 fields, saw 3\\nSkipping line 5604: expected 2 fields, saw 3\\nSkipping line 5613: expected 2 fields, saw 3\\nSkipping line 5625: expected 2 fields, saw 3\\nSkipping line 5644: expected 2 fields, saw 5\\nSkipping line 5653: expected 2 fields, saw 3\\nSkipping line 5733: expected 2 fields, saw 3\\nSkipping line 5734: expected 2 fields, saw 3\\nSkipping line 5761: expected 2 fields, saw 3\\nSkipping line 5807: expected 2 fields, saw 3\\nSkipping line 5839: expected 2 fields, saw 3\\nSkipping line 5864: expected 2 fields, saw 3\\nSkipping line 5912: expected 2 fields, saw 3\\nSkipping line 5975: expected 2 fields, saw 3\\nSkipping line 6008: expected 2 fields, saw 3\\nSkipping line 6173: expected 2 fields, saw 3\\nSkipping line 6191: expected 2 fields, saw 3\\nSkipping line 6205: expected 2 fields, saw 3\\nSkipping line 6289: expected 2 fields, saw 3\\nSkipping line 6323: expected 2 fields, saw 3\\nSkipping line 6395: expected 2 fields, saw 3\\nSkipping line 6439: expected 2 fields, saw 3\\nSkipping line 6465: expected 2 fields, saw 3\\nSkipping line 6515: expected 2 fields, saw 3\\nSkipping line 6544: expected 2 fields, saw 3\\nSkipping line 6580: expected 2 fields, saw 3\\nSkipping line 6584: expected 2 fields, saw 3\\nSkipping line 6638: expected 2 fields, saw 3\\nSkipping line 6643: expected 2 fields, saw 3\\nSkipping line 6722: expected 2 fields, saw 3\\nSkipping line 6762: expected 2 fields, saw 3\\nSkipping line 6866: expected 2 fields, saw 3\\nSkipping line 6941: expected 2 fields, saw 3\\nSkipping line 6949: expected 2 fields, saw 3\\nSkipping line 6954: expected 2 fields, saw 3\\nSkipping line 7053: expected 2 fields, saw 3\\nSkipping line 7143: expected 2 fields, saw 4\\nSkipping line 7270: expected 2 fields, saw 3\\nSkipping line 7356: expected 2 fields, saw 3\\nSkipping line 7395: expected 2 fields, saw 3\\nSkipping line 7538: expected 2 fields, saw 3\\nSkipping line 7559: expected 2 fields, saw 3\\nSkipping line 7565: expected 2 fields, saw 3\\nSkipping line 7593: expected 2 fields, saw 3\\nSkipping line 7617: expected 2 fields, saw 4\\nSkipping line 7629: expected 2 fields, saw 3\\nSkipping line 7670: expected 2 fields, saw 3\\nSkipping line 7685: expected 2 fields, saw 3\\nSkipping line 7734: expected 2 fields, saw 3\\nSkipping line 7769: expected 2 fields, saw 5\\nSkipping line 8098: expected 2 fields, saw 3\\nSkipping line 8164: expected 2 fields, saw 3\\nSkipping line 8192: expected 2 fields, saw 3\\nSkipping line 8203: expected 2 fields, saw 3\\nSkipping line 8395: expected 2 fields, saw 3\\nSkipping line 8590: expected 2 fields, saw 3\\nSkipping line 8634: expected 2 fields, saw 3\\nSkipping line 8739: expected 2 fields, saw 3\\nSkipping line 8769: expected 2 fields, saw 3\\nSkipping line 8777: expected 2 fields, saw 3\\nSkipping line 8899: expected 2 fields, saw 3\\nSkipping line 9070: expected 2 fields, saw 3\\nSkipping line 9103: expected 2 fields, saw 3\\nSkipping line 9129: expected 2 fields, saw 3\\nSkipping line 9217: expected 2 fields, saw 3\\nSkipping line 9256: expected 2 fields, saw 3\\nSkipping line 9308: expected 2 fields, saw 3\\nSkipping line 9324: expected 2 fields, saw 3\\nSkipping line 9407: expected 2 fields, saw 3\\nSkipping line 9417: expected 2 fields, saw 3\\nSkipping line 9579: expected 2 fields, saw 3\\nSkipping line 9638: expected 2 fields, saw 3\\nSkipping line 9671: expected 2 fields, saw 5\\nSkipping line 9677: expected 2 fields, saw 4\\nSkipping line 9718: expected 2 fields, saw 4\\nSkipping line 9758: expected 2 fields, saw 3\\nSkipping line 9766: expected 2 fields, saw 3\\nSkipping line 9789: expected 2 fields, saw 3\\nSkipping line 9868: expected 2 fields, saw 3\\nSkipping line 9924: expected 2 fields, saw 3\\nSkipping line 9937: expected 2 fields, saw 3\\nSkipping line 9951: expected 2 fields, saw 3\\nSkipping line 10078: expected 2 fields, saw 3\\nSkipping line 10089: expected 2 fields, saw 3\\nSkipping line 10210: expected 2 fields, saw 3\\nSkipping line 10280: expected 2 fields, saw 3\\nSkipping line 10328: expected 2 fields, saw 3\\nSkipping line 10330: expected 2 fields, saw 3\\nSkipping line 10418: expected 2 fields, saw 3\\nSkipping line 10426: expected 2 fields, saw 3\\nSkipping line 10480: expected 2 fields, saw 3\\nSkipping line 10487: expected 2 fields, saw 3\\nSkipping line 10531: expected 2 fields, saw 3\\nSkipping line 10539: expected 2 fields, saw 3\\nSkipping line 10564: expected 2 fields, saw 3\\nSkipping line 10631: expected 2 fields, saw 3\\nSkipping line 10636: expected 2 fields, saw 3\\nSkipping line 10653: expected 2 fields, saw 3\\nSkipping line 10664: expected 2 fields, saw 3\\nSkipping line 10711: expected 2 fields, saw 3\\nSkipping line 10713: expected 2 fields, saw 3\\nSkipping line 10755: expected 2 fields, saw 3\\nSkipping line 10868: expected 2 fields, saw 3\\nSkipping line 10985: expected 2 fields, saw 8\\nSkipping line 11046: expected 2 fields, saw 3\\nSkipping line 11055: expected 2 fields, saw 3\\nSkipping line 11067: expected 2 fields, saw 3\\nSkipping line 11070: expected 2 fields, saw 3\\nSkipping line 11072: expected 2 fields, saw 6\\nSkipping line 11083: expected 2 fields, saw 3\\nSkipping line 11143: expected 2 fields, saw 3\\nSkipping line 11177: expected 2 fields, saw 3\\nSkipping line 11205: expected 2 fields, saw 3\\nSkipping line 11206: expected 2 fields, saw 3\\nSkipping line 11238: expected 2 fields, saw 3\\nSkipping line 11239: expected 2 fields, saw 3\\nSkipping line 11258: expected 2 fields, saw 3\\nSkipping line 11261: expected 2 fields, saw 3\\nSkipping line 11270: expected 2 fields, saw 3\\nSkipping line 11326: expected 2 fields, saw 3\\nSkipping line 11333: expected 2 fields, saw 3\\nSkipping line 11404: expected 2 fields, saw 3\\nSkipping line 11430: expected 2 fields, saw 3\\nSkipping line 11459: expected 2 fields, saw 4\\nSkipping line 11504: expected 2 fields, saw 3\\nSkipping line 11547: expected 2 fields, saw 3\\nSkipping line 11561: expected 2 fields, saw 3\\nSkipping line 11609: expected 2 fields, saw 5\\nSkipping line 11613: expected 2 fields, saw 3\\nSkipping line 11618: expected 2 fields, saw 3\\nSkipping line 11619: expected 2 fields, saw 4\\nSkipping line 11764: expected 2 fields, saw 3\\nSkipping line 11772: expected 2 fields, saw 3\\nSkipping line 11817: expected 2 fields, saw 3\\nSkipping line 11834: expected 2 fields, saw 6\\nSkipping line 11855: expected 2 fields, saw 3\\nSkipping line 11923: expected 2 fields, saw 3\\nSkipping line 11925: expected 2 fields, saw 3\\nSkipping line 11935: expected 2 fields, saw 5\\nSkipping line 12037: expected 2 fields, saw 3\\nSkipping line 12148: expected 2 fields, saw 3\\nSkipping line 12193: expected 2 fields, saw 3\\nSkipping line 12200: expected 2 fields, saw 3\\nSkipping line 12275: expected 2 fields, saw 3\\nSkipping line 12356: expected 2 fields, saw 3\\nSkipping line 12377: expected 2 fields, saw 3\\nSkipping line 12604: expected 2 fields, saw 3\\nSkipping line 12641: expected 2 fields, saw 3\\nSkipping line 12651: expected 2 fields, saw 3\\nSkipping line 12658: expected 2 fields, saw 3\\nSkipping line 12692: expected 2 fields, saw 3\\nSkipping line 12694: expected 2 fields, saw 3\\nSkipping line 12731: expected 2 fields, saw 3\\nSkipping line 12766: expected 2 fields, saw 3\\nSkipping line 12767: expected 2 fields, saw 3\\nSkipping line 12848: expected 2 fields, saw 3\\nSkipping line 12986: expected 2 fields, saw 3\\nSkipping line 13048: expected 2 fields, saw 3\\nSkipping line 13079: expected 2 fields, saw 3\\nSkipping line 13099: expected 2 fields, saw 3\\nSkipping line 13162: expected 2 fields, saw 3\\nSkipping line 13187: expected 2 fields, saw 3\\nSkipping line 13216: expected 2 fields, saw 3\\nSkipping line 13245: expected 2 fields, saw 3\\nSkipping line 13422: expected 2 fields, saw 3\\nSkipping line 13441: expected 2 fields, saw 3\\nSkipping line 13452: expected 2 fields, saw 3\\nSkipping line 13570: expected 2 fields, saw 3\\nSkipping line 13611: expected 2 fields, saw 3\\nSkipping line 13648: expected 2 fields, saw 3\\nSkipping line 13665: expected 2 fields, saw 3\\nSkipping line 13711: expected 2 fields, saw 3\\nSkipping line 13853: expected 2 fields, saw 3\\nSkipping line 13969: expected 2 fields, saw 3\\nSkipping line 13971: expected 2 fields, saw 3\\nSkipping line 13990: expected 2 fields, saw 3\\nSkipping line 13991: expected 2 fields, saw 3\\nSkipping line 14027: expected 2 fields, saw 3\\nSkipping line 14043: expected 2 fields, saw 4\\nSkipping line 14105: expected 2 fields, saw 3\\nSkipping line 14187: expected 2 fields, saw 3\\nSkipping line 14330: expected 2 fields, saw 3\\nSkipping line 14407: expected 2 fields, saw 3\\nSkipping line 14547: expected 2 fields, saw 3\\nSkipping line 14602: expected 2 fields, saw 7\\nSkipping line 14707: expected 2 fields, saw 3\\nSkipping line 14790: expected 2 fields, saw 4\\nSkipping line 14804: expected 2 fields, saw 3\\nSkipping line 14891: expected 2 fields, saw 3\\nSkipping line 14937: expected 2 fields, saw 3\\nSkipping line 14954: expected 2 fields, saw 3\\nSkipping line 15025: expected 2 fields, saw 3\\nSkipping line 15117: expected 2 fields, saw 3\\nSkipping line 15147: expected 2 fields, saw 3\\nSkipping line 15276: expected 2 fields, saw 3\\nSkipping line 15344: expected 2 fields, saw 3\\nSkipping line 15382: expected 2 fields, saw 3\\nSkipping line 15402: expected 2 fields, saw 3\\nSkipping line 15415: expected 2 fields, saw 3\\nSkipping line 15482: expected 2 fields, saw 3\\nSkipping line 15536: expected 2 fields, saw 3\\nSkipping line 15643: expected 2 fields, saw 3\\nSkipping line 15651: expected 2 fields, saw 3\\nSkipping line 15665: expected 2 fields, saw 3\\nSkipping line 15712: expected 2 fields, saw 3\\nSkipping line 15784: expected 2 fields, saw 3\\nSkipping line 15798: expected 2 fields, saw 4\\nSkipping line 15949: expected 2 fields, saw 3\\nSkipping line 15973: expected 2 fields, saw 3\\nSkipping line 15994: expected 2 fields, saw 3\\nSkipping line 16009: expected 2 fields, saw 3\\nSkipping line 16135: expected 2 fields, saw 3\\nSkipping line 16154: expected 2 fields, saw 6\\nSkipping line 16182: expected 2 fields, saw 3\\nSkipping line 16199: expected 2 fields, saw 3\\nSkipping line 16219: expected 2 fields, saw 3\\nSkipping line 16346: expected 2 fields, saw 4\\nSkipping line 16396: expected 2 fields, saw 3\\nSkipping line 16402: expected 2 fields, saw 3\\nSkipping line 16517: expected 2 fields, saw 3\\nSkipping line 16594: expected 2 fields, saw 3\\nSkipping line 16741: expected 2 fields, saw 4\\nSkipping line 16827: expected 2 fields, saw 3\\nSkipping line 16861: expected 2 fields, saw 3\\nSkipping line 16946: expected 2 fields, saw 3\\nSkipping line 17120: expected 2 fields, saw 3\\nSkipping line 17126: expected 2 fields, saw 4\\nSkipping line 17181: expected 2 fields, saw 3\\nSkipping line 17439: expected 2 fields, saw 4\\nSkipping line 17457: expected 2 fields, saw 3\\nSkipping line 17470: expected 2 fields, saw 3\\nSkipping line 17488: expected 2 fields, saw 3\\nSkipping line 17566: expected 2 fields, saw 4\\nSkipping line 17574: expected 2 fields, saw 6\\nSkipping line 17744: expected 2 fields, saw 3\\nSkipping line 17852: expected 2 fields, saw 4\\nSkipping line 17867: expected 2 fields, saw 3\\nSkipping line 17977: expected 2 fields, saw 3\\nSkipping line 18180: expected 2 fields, saw 3\\nSkipping line 18188: expected 2 fields, saw 3\\nSkipping line 18278: expected 2 fields, saw 4\\nSkipping line 18449: expected 2 fields, saw 3\\nSkipping line 18490: expected 2 fields, saw 3\\nSkipping line 18768: expected 2 fields, saw 3\\nSkipping line 18935: expected 2 fields, saw 3\\nSkipping line 18959: expected 2 fields, saw 3\\nSkipping line 18993: expected 2 fields, saw 3\\nSkipping line 19026: expected 2 fields, saw 3\\nSkipping line 19072: expected 2 fields, saw 3\\nSkipping line 19172: expected 2 fields, saw 3\\nSkipping line 19174: expected 2 fields, saw 3\\nSkipping line 19197: expected 2 fields, saw 3\\nSkipping line 19351: expected 2 fields, saw 3\\nSkipping line 19360: expected 2 fields, saw 3\\nSkipping line 19361: expected 2 fields, saw 3\\nSkipping line 19396: expected 2 fields, saw 3\\nSkipping line 19502: expected 2 fields, saw 3\\nSkipping line 19509: expected 2 fields, saw 4\\nSkipping line 19530: expected 2 fields, saw 3\\nSkipping line 19617: expected 2 fields, saw 3\\nSkipping line 19654: expected 2 fields, saw 3\\nSkipping line 19655: expected 2 fields, saw 3\\nSkipping line 19713: expected 2 fields, saw 3\\nSkipping line 19772: expected 2 fields, saw 3\\nSkipping line 19902: expected 2 fields, saw 3\\nSkipping line 20018: expected 2 fields, saw 3\\nSkipping line 20060: expected 2 fields, saw 3\\nSkipping line 20435: expected 2 fields, saw 3\\nSkipping line 20731: expected 2 fields, saw 3\\n'\n"
    },
    {
     "data": {
      "text/html": "<div>\n<style scoped>\n    .dataframe tbody tr th:only-of-type {\n        vertical-align: middle;\n    }\n\n    .dataframe tbody tr th {\n        vertical-align: top;\n    }\n\n    .dataframe thead th {\n        text-align: right;\n    }\n</style>\n<table border=\"1\" class=\"dataframe\">\n  <thead>\n    <tr style=\"text-align: right;\">\n      <th></th>\n      <th>language</th>\n      <th>text</th>\n    </tr>\n  </thead>\n  <tbody>\n    <tr>\n      <th>5120</th>\n      <td>en</td>\n      <td>For these reasons I cannot sanction the idea o...</td>\n    </tr>\n    <tr>\n      <th>16187</th>\n      <td>pt</td>\n      <td>No entanto, o modelo está a mudar rapidamente ...</td>\n    </tr>\n    <tr>\n      <th>6300</th>\n      <td>es</td>\n      <td>Hasta ahora el Consejo no ha sido informado de...</td>\n    </tr>\n    <tr>\n      <th>9244</th>\n      <td>fr</td>\n      <td>Je regrette de devoir dire aux députés et au c...</td>\n    </tr>\n    <tr>\n      <th>7996</th>\n      <td>fi</td>\n      <td>Esityslistalla on seuraavana Schaffnerin laati...</td>\n    </tr>\n  </tbody>\n</table>\n</div>",
      "text/plain": "      language                                               text\n5120        en  For these reasons I cannot sanction the idea o...\n16187       pt  No entanto, o modelo está a mudar rapidamente ...\n6300        es  Hasta ahora el Consejo no ha sido informado de...\n9244        fr  Je regrette de devoir dire aux députés et au c...\n7996        fi  Esityslistalla on seuraavana Schaffnerin laati..."
     },
     "execution_count": 4,
     "metadata": {},
     "output_type": "execute_result"
    }
   ],
   "source": [
    "test = pd.read_csv('europarl.csv',sep=';', error_bad_lines=False)\n",
    "test = removeNoise(test)\n",
    "test= test.reindex(np.random.permutation(test.index))\n",
    "test.head()"
   ]
  },
  {
   "cell_type": "markdown",
   "execution_count": null,
   "metadata": {},
   "outputs": [],
   "source": [
    "<h2>Prepair data</h2>\n",
    "\n",
    "Transform data and test set to numpy array with : \n",
    "- n: length of data train\n",
    "- m: length of data test\n",
    "\n",
    "List of all the languages whose detection is supported:\n",
    "\n",
    "- 'bg': Bulgarian\n",
    "- 'cs': Czech\n",
    "- 'da': Danish\n",
    "- 'de': German\n",
    "- 'el': Greek, Modern\n",
    "- 'en': English\n",
    "- 'es': Spanish\n",
    "- 'et': Estonian\n",
    "- 'fi': Finnish\n",
    "- 'fr': French\n",
    "- 'hu': Hungarian\n",
    "- 'it': Italian\n",
    "- 'lt': Lithuanian\n",
    "- 'lv': Latvian\n",
    "- 'nl': Dutch\n",
    "- 'pl': Polish\n",
    "- 'pt': Portuguese\n",
    "- 'ro': Romanian\n",
    "- 'sk': Slovak\n",
    "- 'sl': Slovenian\n",
    "- 'sv': Swedish"
   ]
  },
  {
   "cell_type": "code",
   "execution_count": 5,
   "metadata": {},
   "outputs": [],
   "source": [
    "data = data.values\n",
    "test = test.values\n",
    "\n",
    "n = data.shape[0]\n",
    "m = test.shape[0]\n",
    "\n",
    "labels = data[:,0]\n",
    "labels_test = test[:,0]"
   ]
  },
  {
   "cell_type": "markdown",
   "execution_count": null,
   "metadata": {},
   "outputs": [],
   "source": [
    "Prepair data train:\n",
    "- using CountVectorizer to get all token from raw text\n",
    "- Seperate each token language "
   ]
  },
  {
   "cell_type": "code",
   "execution_count": 6,
   "metadata": {},
   "outputs": [],
   "source": [
    "language_train = []\n",
    "for i,v in enumerate(data):\n",
    "    vector = CountVectorizer(analyzer='char',encoding='latin-1',ngram_range=(2,2))\n",
    "    y = vector.fit_transform([v[1].replace(' ','')])\n",
    "    language_train.append(np.array([vector,y]))"
   ]
  },
  {
   "cell_type": "markdown",
   "execution_count": null,
   "metadata": {},
   "outputs": [],
   "source": [
    "Predict task:\n",
    "\n",
    "- Get each text from test data\n",
    "- Get token don't exit from _p with _q assign to _set(p is set token of test, and q is set token of train)\n",
    "<img src=\"img/t_cup.PNG\"/>\n",
    "- If _set empty => _p inside _q then calculate KL-divergence D(_p||_q) will > 0\n",
    "<img src=\"img/t_cap.PNG\"/>\n",
    "- Else _set have some character => _p overlap _q the D(_p||_q) will Infinity\n",
    "- Store D(_p||_q) into t array\n",
    "- After run all language support, predict = argmin(t) "
   ]
  },
  {
   "cell_type": "code",
   "execution_count": 7,
   "metadata": {},
   "outputs": [],
   "source": [
    "predict_label = []\n",
    "true_position = 0\n",
    "for i,(_,data_test) in enumerate(test):\n",
    "    vector_test = TfidfVectorizer(analyzer='char',encoding='latin-1',ngram_range=(2,2))\n",
    "    transform = vector_test.fit_transform([data_test.replace(' ','')])\n",
    "    t = np.array([float('Inf')]*n)\n",
    "    for j,(vector_train,transform_y) in enumerate(language_train):\n",
    "        _tmp = set(vector_train.vocabulary_)^set(vector_test.vocabulary_)\n",
    "        _set = list((set(_tmp)|set(vector_test.vocabulary_))^ set(vector_train.vocabulary_))\n",
    "        if not bool(_set):\n",
    "            k = len(vector_train.vocabulary_)\n",
    "            _q = np.zeros(k)\n",
    "            _q[transform_y.indices] = transform_y.data\n",
    "            _p = np.zeros(k)\n",
    "            _p[transform.indices] = transform.data\n",
    "            t[j] = scipy.stats.entropy(_p,_q)\n",
    "    predict_label.append(labels[np.argmin(t)])"
   ]
  },
  {
   "cell_type": "code",
   "execution_count": 8,
   "metadata": {},
   "outputs": [
    {
     "name": "stdout",
     "output_type": "stream",
     "text": "precision    recall  f1-score   support\n\n          bg       0.21      1.00      0.35       986\n          cs       0.94      0.75      0.84       991\n          da       0.89      0.73      0.80       991\n          de       0.95      0.58      0.72       989\n          el       1.00      0.75      0.86       963\n          en       0.95      0.08      0.14       972\n          es       0.99      0.34      0.51       979\n          et       0.83      0.72      0.77       985\n          fi       0.98      0.66      0.79       989\n          fr       0.60      0.09      0.16       979\n          hu       0.69      0.84      0.75       978\n          it       0.96      0.16      0.28       965\n          lt       0.47      0.85      0.61       982\n          lv       0.86      0.85      0.85       961\n          nl       0.73      0.21      0.33       984\n          pl       0.85      0.82      0.83       983\n          pt       0.74      0.75      0.75       983\n          ro       0.90      0.86      0.88       916\n          sk       0.67      0.85      0.75       922\n          sl       0.72      0.60      0.65       980\n          sv       0.52      0.85      0.64       995\n\n   micro avg       0.63      0.63      0.63     20473\n   macro avg       0.78      0.63      0.63     20473\nweighted avg       0.78      0.63      0.63     20473\n\n0.6340546085087676\n"
    }
   ],
   "source": [
    "print(classification_report(labels_test, predict_label))            \n",
    "print (accuracy_score(labels_test, predict_label))"
   ]
  }
 ]
}